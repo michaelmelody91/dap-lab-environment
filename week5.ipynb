{
 "cells": [
  {
   "cell_type": "code",
   "execution_count": 4,
   "id": "554d6fb7",
   "metadata": {},
   "outputs": [
    {
     "name": "stdout",
     "output_type": "stream",
     "text": [
      "Error while connecting to PostgreSQL database \"weather\" already exists\n",
      "\n"
     ]
    }
   ],
   "source": [
    "import psycopg2\n",
    "foo = 'bar';\n",
    "try:\n",
    "    dbConnection = psycopg2.connect(user = \"postgres\",\n",
    "    password = \"postgres\",\n",
    "    host = \"localhost\",\n",
    "    port = \"5432\",\n",
    "    database = \"postgres\")\n",
    "    dbConnection.set_isolation_level(0) # AUTOCOMMIT\n",
    "    dbCursor = dbConnection.cursor()\n",
    "    dbCursor.execute('CREATE DATABASE weather;')\n",
    "    dbCursor.close()\n",
    "except (Exception , psycopg2.Error) as dbError :\n",
    "    print (\"Error while connecting to PostgreSQL\", dbError)\n",
    "finally:\n",
    "    if(dbConnection):\n",
    "        dbConnection.close()"
   ]
  },
  {
   "cell_type": "code",
   "execution_count": 19,
   "id": "e88f5591",
   "metadata": {},
   "outputs": [],
   "source": [
    "createString = \"\"\"\n",
    "CREATE TABLE weather(\n",
    "date_time timestamp PRIMARY KEY,\n",
    "rain numeric(5,1),\n",
    "temp numeric(5,1),\n",
    "wetb numeric(5,1),\n",
    "dewpt numeric(5,1),\n",
    "vapps numeric(5,1),\n",
    "rhum numeric(5,1),\n",
    "msl numeric(7,1),\n",
    "wdsp integer,\n",
    "wddir integer,\n",
    "ww integer,\n",
    "w integer,\n",
    "sun numeric(5,1),\n",
    "vis integer,\n",
    "clht integer,\n",
    "clamt integer\n",
    ");\n",
    "\"\"\"\n",
    "\n",
    "try:\n",
    "    dbConnection = psycopg2.connect(user = \"postgres\",\n",
    "        password = \"postgres\",\n",
    "        host = \"localhost\",\n",
    "        port = \"5432\",\n",
    "        database = \"weather\")\n",
    "    dbConnection.set_isolation_level(0) # AUTOCOMMIT\n",
    "    dbCursor = dbConnection.cursor()\n",
    "    dbCursor.execute(createString)\n",
    "    dbCursor.close()\n",
    "except (Exception , psycopg2.Error) as dbError :\n",
    "    print (\"Error while connecting to PostgreSQL\", dbError)\n",
    "finally:\n",
    "    if(dbConnection):\n",
    "        dbConnection.close()"
   ]
  },
  {
   "cell_type": "code",
   "execution_count": 25,
   "id": "e35cad3f",
   "metadata": {},
   "outputs": [],
   "source": [
    "import psycopg2\n",
    "import csv\n",
    "try:\n",
    "    dbConnection = psycopg2.connect(\n",
    "        user = \"postgres\",\n",
    "        password = \"postgres\",\n",
    "        host = \"localhost\",\n",
    "        port = \"5432\",\n",
    "        database = \"weather\")\n",
    "    dbConnection.set_isolation_level(0) # AUTOCOMMIT\n",
    "    dbCursor = dbConnection.cursor()\n",
    "    dbCursor.execute(\"SET DateStyle='DMY'\")\n",
    "    insertString = \"INSERT INTO weather VALUES ('{}',\"+\"{},\"*14+\"{})\"\n",
    "    with open('weather.csv', 'r') as f:\n",
    "        reader = csv.reader(f)\n",
    "        next(reader) # skip the header\n",
    "        for row in reader:\n",
    "            dbCursor.execute(insertString.format(*row))\n",
    "    dbCursor.close()\n",
    "except (Exception , psycopg2.Error) as dbError :\n",
    "    print (\"Error:\", dbError)\n",
    "finally:\n",
    "    if(dbConnection):\n",
    "        dbConnection.close()"
   ]
  },
  {
   "cell_type": "code",
   "execution_count": 27,
   "id": "34027d16",
   "metadata": {},
   "outputs": [
    {
     "name": "stdout",
     "output_type": "stream",
     "text": [
      "    month       temp      wdsp\n",
      "0     2.0   5.231678  2.000000\n",
      "1     9.0  13.011500  2.001667\n",
      "2    11.0   7.322407  2.000000\n",
      "3    12.0   5.892727  2.000000\n",
      "4     7.0  15.414274  2.000000\n",
      "5     3.0   6.100524  2.002151\n",
      "6     4.0   8.088000  1.999722\n",
      "7    10.0  10.680484  2.000000\n",
      "8     8.0  14.676667  2.000000\n",
      "9     5.0  10.867245  2.000000\n",
      "10    6.0  13.610611  2.000000\n",
      "11    1.0   5.047258  2.000000\n"
     ]
    },
    {
     "name": "stderr",
     "output_type": "stream",
     "text": [
      "/var/folders/j4/7yvq0bcx06v1fs4_rz4y8xbm0000gn/T/ipykernel_15404/3121102505.py:20: UserWarning: pandas only supports SQLAlchemy connectable (engine/connection) or database string URI or sqlite3 DBAPI2 connection. Other DBAPI2 objects are not tested. Please consider using SQLAlchemy.\n",
      "  weather_dataframe = sqlio.read_sql_query(sql, dbConnection)\n"
     ]
    }
   ],
   "source": [
    "import pandas as pd\n",
    "import pandas.io.sql as sqlio\n",
    "import psycopg2\n",
    "sql = \"\"\"\n",
    "    SELECT\n",
    "    EXTRACT(MONTH FROM date_time) AS month,\n",
    "    AVG(temp) as temp,\n",
    "    AVG(wdsp) AS wdsp\n",
    "    FROM\n",
    "    weather\n",
    "    GROUP BY\n",
    "    month;\"\"\"\n",
    "try:\n",
    "    dbConnection = psycopg2.connect(\n",
    "        user = \"postgres\",\n",
    "        password = \"postgres\",\n",
    "        host = \"localhost\",\n",
    "        port = \"5432\",\n",
    "        database = \"weather\")\n",
    "    weather_dataframe = sqlio.read_sql_query(sql, dbConnection)\n",
    "except (Exception , psycopg2.Error) as dbError :\n",
    "    print (\"Error:\", dbError)\n",
    "finally:\n",
    "    if(dbConnection):\n",
    "        dbConnection.close()\n",
    "print(weather_dataframe)"
   ]
  },
  {
   "cell_type": "code",
   "execution_count": 28,
   "id": "62d0c489",
   "metadata": {},
   "outputs": [
    {
     "data": {
      "text/plain": [
       "<AxesSubplot: xlabel='month', ylabel='temp'>"
      ]
     },
     "execution_count": 28,
     "metadata": {},
     "output_type": "execute_result"
    },
    {
     "data": {
      "image/png": "[encoded data removed]",
      "text/plain": [
       "<Figure size 640x480 with 1 Axes>"
      ]
     },
     "metadata": {},
     "output_type": "display_data"
    }
   ],
   "source": [
    "import seaborn as sns\n",
    "import matplotlib.pyplot as plt\n",
    "sns.barplot(x=\"month\", y=\"temp\", data=weather_dataframe)"
   ]
  },
  {
   "cell_type": "code",
   "execution_count": null,
   "id": "7c78ca48",
   "metadata": {},
   "outputs": [],
   "source": []
  }
 ],
 "metadata": {
  "kernelspec": {
   "display_name": "DAP Labs Env",
   "language": "python",
   "name": "dap_labs_env"
  },
  "language_info": {
   "codemirror_mode": {
    "name": "ipython",
    "version": 3
   },
   "file_extension": ".py",
   "mimetype": "text/x-python",
   "name": "python",
   "nbconvert_exporter": "python",
   "pygments_lexer": "ipython3",
   "version": "3.9.4"
  }
 },
 "nbformat": 4,
 "nbformat_minor": 5
}
